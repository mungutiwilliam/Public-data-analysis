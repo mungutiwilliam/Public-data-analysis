{
 "cells": [
  {
   "cell_type": "markdown",
   "id": "5bce8d27",
   "metadata": {},
   "source": [
    "# Public transport Demand DataSet"
   ]
  },
  {
   "cell_type": "markdown",
   "id": "2fb93315",
   "metadata": {},
   "source": [
    "1. First we have to import the dataset and all the required libraries for the project"
   ]
  },
  {
   "cell_type": "code",
   "execution_count": 1,
   "id": "031edf67",
   "metadata": {},
   "outputs": [],
   "source": [
    "import pandas as pd\n",
    "import numpy as np\n",
    "import datetime "
   ]
  },
  {
   "cell_type": "markdown",
   "id": "ba73c355",
   "metadata": {},
   "source": [
    "2.  We are first going to get the data from the local machine \n",
    "3.  Second we explore the data in order to be aware of what the data you are dealing with is about\n"
   ]
  },
  {
   "cell_type": "code",
   "execution_count": 2,
   "id": "dde4f0f8",
   "metadata": {},
   "outputs": [],
   "source": [
    "data = pd.read_csv('train_revised.csv')"
   ]
  },
  {
   "cell_type": "code",
   "execution_count": 3,
   "id": "76a443b0",
   "metadata": {},
   "outputs": [
    {
     "data": {
      "text/html": [
       "<div>\n",
       "<style scoped>\n",
       "    .dataframe tbody tr th:only-of-type {\n",
       "        vertical-align: middle;\n",
       "    }\n",
       "\n",
       "    .dataframe tbody tr th {\n",
       "        vertical-align: top;\n",
       "    }\n",
       "\n",
       "    .dataframe thead th {\n",
       "        text-align: right;\n",
       "    }\n",
       "</style>\n",
       "<table border=\"1\" class=\"dataframe\">\n",
       "  <thead>\n",
       "    <tr style=\"text-align: right;\">\n",
       "      <th></th>\n",
       "      <th>ride_id</th>\n",
       "      <th>seat_number</th>\n",
       "      <th>payment_method</th>\n",
       "      <th>payment_receipt</th>\n",
       "      <th>travel_date</th>\n",
       "      <th>travel_time</th>\n",
       "      <th>travel_from</th>\n",
       "      <th>travel_to</th>\n",
       "      <th>car_type</th>\n",
       "      <th>max_capacity</th>\n",
       "    </tr>\n",
       "  </thead>\n",
       "  <tbody>\n",
       "    <tr>\n",
       "      <th>0</th>\n",
       "      <td>1442</td>\n",
       "      <td>15A</td>\n",
       "      <td>Mpesa</td>\n",
       "      <td>UZUEHCBUSO</td>\n",
       "      <td>17-10-17</td>\n",
       "      <td>7:15</td>\n",
       "      <td>Migori</td>\n",
       "      <td>Nairobi</td>\n",
       "      <td>Bus</td>\n",
       "      <td>49</td>\n",
       "    </tr>\n",
       "    <tr>\n",
       "      <th>1</th>\n",
       "      <td>5437</td>\n",
       "      <td>14A</td>\n",
       "      <td>Mpesa</td>\n",
       "      <td>TIHLBUSGTE</td>\n",
       "      <td>19-11-17</td>\n",
       "      <td>7:12</td>\n",
       "      <td>Migori</td>\n",
       "      <td>Nairobi</td>\n",
       "      <td>Bus</td>\n",
       "      <td>49</td>\n",
       "    </tr>\n",
       "    <tr>\n",
       "      <th>2</th>\n",
       "      <td>5710</td>\n",
       "      <td>8B</td>\n",
       "      <td>Mpesa</td>\n",
       "      <td>EQX8Q5G19O</td>\n",
       "      <td>26-11-17</td>\n",
       "      <td>7:05</td>\n",
       "      <td>Keroka</td>\n",
       "      <td>Nairobi</td>\n",
       "      <td>Bus</td>\n",
       "      <td>49</td>\n",
       "    </tr>\n",
       "    <tr>\n",
       "      <th>3</th>\n",
       "      <td>5777</td>\n",
       "      <td>19A</td>\n",
       "      <td>Mpesa</td>\n",
       "      <td>SGP18CL0ME</td>\n",
       "      <td>27-11-17</td>\n",
       "      <td>7:10</td>\n",
       "      <td>Homa Bay</td>\n",
       "      <td>Nairobi</td>\n",
       "      <td>Bus</td>\n",
       "      <td>49</td>\n",
       "    </tr>\n",
       "    <tr>\n",
       "      <th>4</th>\n",
       "      <td>5778</td>\n",
       "      <td>11A</td>\n",
       "      <td>Mpesa</td>\n",
       "      <td>BM97HFRGL9</td>\n",
       "      <td>27-11-17</td>\n",
       "      <td>7:12</td>\n",
       "      <td>Migori</td>\n",
       "      <td>Nairobi</td>\n",
       "      <td>Bus</td>\n",
       "      <td>49</td>\n",
       "    </tr>\n",
       "    <tr>\n",
       "      <th>...</th>\n",
       "      <td>...</td>\n",
       "      <td>...</td>\n",
       "      <td>...</td>\n",
       "      <td>...</td>\n",
       "      <td>...</td>\n",
       "      <td>...</td>\n",
       "      <td>...</td>\n",
       "      <td>...</td>\n",
       "      <td>...</td>\n",
       "      <td>...</td>\n",
       "    </tr>\n",
       "    <tr>\n",
       "      <th>51640</th>\n",
       "      <td>13826</td>\n",
       "      <td>9B</td>\n",
       "      <td>Mpesa</td>\n",
       "      <td>8V2XDDZR6V</td>\n",
       "      <td>20-04-18</td>\n",
       "      <td>8:00</td>\n",
       "      <td>Awendo</td>\n",
       "      <td>Nairobi</td>\n",
       "      <td>Bus</td>\n",
       "      <td>49</td>\n",
       "    </tr>\n",
       "    <tr>\n",
       "      <th>51641</th>\n",
       "      <td>13809</td>\n",
       "      <td>18A</td>\n",
       "      <td>Mpesa</td>\n",
       "      <td>4PEBSVJSNK</td>\n",
       "      <td>20-04-18</td>\n",
       "      <td>8:00</td>\n",
       "      <td>Migori</td>\n",
       "      <td>Nairobi</td>\n",
       "      <td>Bus</td>\n",
       "      <td>49</td>\n",
       "    </tr>\n",
       "    <tr>\n",
       "      <th>51642</th>\n",
       "      <td>13809</td>\n",
       "      <td>17A</td>\n",
       "      <td>Mpesa</td>\n",
       "      <td>LVN64LZDNN</td>\n",
       "      <td>20-04-18</td>\n",
       "      <td>8:00</td>\n",
       "      <td>Migori</td>\n",
       "      <td>Nairobi</td>\n",
       "      <td>Bus</td>\n",
       "      <td>49</td>\n",
       "    </tr>\n",
       "    <tr>\n",
       "      <th>51643</th>\n",
       "      <td>13796</td>\n",
       "      <td>16B</td>\n",
       "      <td>Mpesa</td>\n",
       "      <td>REYBSKTYWN</td>\n",
       "      <td>20-04-18</td>\n",
       "      <td>7:08</td>\n",
       "      <td>Awendo</td>\n",
       "      <td>Nairobi</td>\n",
       "      <td>Bus</td>\n",
       "      <td>49</td>\n",
       "    </tr>\n",
       "    <tr>\n",
       "      <th>51644</th>\n",
       "      <td>14304</td>\n",
       "      <td>7</td>\n",
       "      <td>Mpesa</td>\n",
       "      <td>AQN7FBUSGP</td>\n",
       "      <td>14-11-17</td>\n",
       "      <td>5:10</td>\n",
       "      <td>Kisii</td>\n",
       "      <td>Nairobi</td>\n",
       "      <td>Bus</td>\n",
       "      <td>49</td>\n",
       "    </tr>\n",
       "  </tbody>\n",
       "</table>\n",
       "<p>51645 rows × 10 columns</p>\n",
       "</div>"
      ],
      "text/plain": [
       "       ride_id seat_number payment_method payment_receipt travel_date  \\\n",
       "0         1442         15A          Mpesa      UZUEHCBUSO    17-10-17   \n",
       "1         5437         14A          Mpesa      TIHLBUSGTE    19-11-17   \n",
       "2         5710          8B          Mpesa      EQX8Q5G19O    26-11-17   \n",
       "3         5777         19A          Mpesa      SGP18CL0ME    27-11-17   \n",
       "4         5778         11A          Mpesa      BM97HFRGL9    27-11-17   \n",
       "...        ...         ...            ...             ...         ...   \n",
       "51640    13826          9B          Mpesa      8V2XDDZR6V    20-04-18   \n",
       "51641    13809         18A          Mpesa      4PEBSVJSNK    20-04-18   \n",
       "51642    13809         17A          Mpesa      LVN64LZDNN    20-04-18   \n",
       "51643    13796         16B          Mpesa      REYBSKTYWN    20-04-18   \n",
       "51644    14304           7          Mpesa      AQN7FBUSGP    14-11-17   \n",
       "\n",
       "      travel_time travel_from travel_to car_type  max_capacity  \n",
       "0            7:15      Migori   Nairobi      Bus            49  \n",
       "1            7:12      Migori   Nairobi      Bus            49  \n",
       "2            7:05      Keroka   Nairobi      Bus            49  \n",
       "3            7:10    Homa Bay   Nairobi      Bus            49  \n",
       "4            7:12      Migori   Nairobi      Bus            49  \n",
       "...           ...         ...       ...      ...           ...  \n",
       "51640        8:00      Awendo   Nairobi      Bus            49  \n",
       "51641        8:00      Migori   Nairobi      Bus            49  \n",
       "51642        8:00      Migori   Nairobi      Bus            49  \n",
       "51643        7:08      Awendo   Nairobi      Bus            49  \n",
       "51644        5:10       Kisii   Nairobi      Bus            49  \n",
       "\n",
       "[51645 rows x 10 columns]"
      ]
     },
     "execution_count": 3,
     "metadata": {},
     "output_type": "execute_result"
    }
   ],
   "source": [
    "data"
   ]
  },
  {
   "cell_type": "code",
   "execution_count": 4,
   "id": "334558d6",
   "metadata": {},
   "outputs": [
    {
     "data": {
      "text/plain": [
       "Index(['ride_id', 'seat_number', 'payment_method', 'payment_receipt',\n",
       "       'travel_date', 'travel_time', 'travel_from', 'travel_to', 'car_type',\n",
       "       'max_capacity'],\n",
       "      dtype='object')"
      ]
     },
     "execution_count": 4,
     "metadata": {},
     "output_type": "execute_result"
    }
   ],
   "source": [
    "data.columns"
   ]
  },
  {
   "cell_type": "code",
   "execution_count": 5,
   "id": "2df85d0f",
   "metadata": {},
   "outputs": [
    {
     "data": {
      "text/plain": [
       "(51645, 10)"
      ]
     },
     "execution_count": 5,
     "metadata": {},
     "output_type": "execute_result"
    }
   ],
   "source": [
    "data.shape"
   ]
  },
  {
   "cell_type": "code",
   "execution_count": 6,
   "id": "c095687c",
   "metadata": {
    "scrolled": true
   },
   "outputs": [
    {
     "data": {
      "text/html": [
       "<div>\n",
       "<style scoped>\n",
       "    .dataframe tbody tr th:only-of-type {\n",
       "        vertical-align: middle;\n",
       "    }\n",
       "\n",
       "    .dataframe tbody tr th {\n",
       "        vertical-align: top;\n",
       "    }\n",
       "\n",
       "    .dataframe thead th {\n",
       "        text-align: right;\n",
       "    }\n",
       "</style>\n",
       "<table border=\"1\" class=\"dataframe\">\n",
       "  <thead>\n",
       "    <tr style=\"text-align: right;\">\n",
       "      <th></th>\n",
       "      <th>ride_id</th>\n",
       "      <th>seat_number</th>\n",
       "      <th>payment_method</th>\n",
       "      <th>payment_receipt</th>\n",
       "      <th>travel_date</th>\n",
       "      <th>travel_time</th>\n",
       "      <th>travel_from</th>\n",
       "      <th>travel_to</th>\n",
       "      <th>car_type</th>\n",
       "      <th>max_capacity</th>\n",
       "    </tr>\n",
       "  </thead>\n",
       "  <tbody>\n",
       "    <tr>\n",
       "      <th>1025</th>\n",
       "      <td>6396</td>\n",
       "      <td>1X</td>\n",
       "      <td>Mpesa</td>\n",
       "      <td>JCUPVLJRGN</td>\n",
       "      <td>01-12-17</td>\n",
       "      <td>5:40</td>\n",
       "      <td>Keroka</td>\n",
       "      <td>Nairobi</td>\n",
       "      <td>shuttle</td>\n",
       "      <td>11</td>\n",
       "    </tr>\n",
       "    <tr>\n",
       "      <th>17805</th>\n",
       "      <td>8983</td>\n",
       "      <td>11A</td>\n",
       "      <td>Mpesa</td>\n",
       "      <td>MNVMJJKIIK</td>\n",
       "      <td>22-01-18</td>\n",
       "      <td>7:15</td>\n",
       "      <td>Migori</td>\n",
       "      <td>Nairobi</td>\n",
       "      <td>Bus</td>\n",
       "      <td>49</td>\n",
       "    </tr>\n",
       "    <tr>\n",
       "      <th>37107</th>\n",
       "      <td>11785</td>\n",
       "      <td>17A</td>\n",
       "      <td>Mpesa</td>\n",
       "      <td>YYED6JUTQ1</td>\n",
       "      <td>07-03-18</td>\n",
       "      <td>7:04</td>\n",
       "      <td>Homa Bay</td>\n",
       "      <td>Nairobi</td>\n",
       "      <td>Bus</td>\n",
       "      <td>49</td>\n",
       "    </tr>\n",
       "    <tr>\n",
       "      <th>18826</th>\n",
       "      <td>9160</td>\n",
       "      <td>1</td>\n",
       "      <td>Mpesa</td>\n",
       "      <td>HBPFSGZGXJ</td>\n",
       "      <td>29-01-18</td>\n",
       "      <td>8:50</td>\n",
       "      <td>Kisii</td>\n",
       "      <td>Nairobi</td>\n",
       "      <td>shuttle</td>\n",
       "      <td>11</td>\n",
       "    </tr>\n",
       "    <tr>\n",
       "      <th>6135</th>\n",
       "      <td>7260</td>\n",
       "      <td>4</td>\n",
       "      <td>Mpesa</td>\n",
       "      <td>GF8SZ3TK7G</td>\n",
       "      <td>02-03-18</td>\n",
       "      <td>7:40</td>\n",
       "      <td>Kisii</td>\n",
       "      <td>Nairobi</td>\n",
       "      <td>shuttle</td>\n",
       "      <td>11</td>\n",
       "    </tr>\n",
       "    <tr>\n",
       "      <th>26695</th>\n",
       "      <td>10534</td>\n",
       "      <td>10</td>\n",
       "      <td>Mpesa</td>\n",
       "      <td>VIZM0UFKM7</td>\n",
       "      <td>22-12-17</td>\n",
       "      <td>9:20</td>\n",
       "      <td>Kisii</td>\n",
       "      <td>Nairobi</td>\n",
       "      <td>shuttle</td>\n",
       "      <td>11</td>\n",
       "    </tr>\n",
       "    <tr>\n",
       "      <th>38256</th>\n",
       "      <td>11926</td>\n",
       "      <td>7B</td>\n",
       "      <td>Mpesa</td>\n",
       "      <td>90RITOQHUT</td>\n",
       "      <td>09-03-18</td>\n",
       "      <td>7:04</td>\n",
       "      <td>Rongo</td>\n",
       "      <td>Nairobi</td>\n",
       "      <td>Bus</td>\n",
       "      <td>49</td>\n",
       "    </tr>\n",
       "    <tr>\n",
       "      <th>19772</th>\n",
       "      <td>9280</td>\n",
       "      <td>8</td>\n",
       "      <td>Mpesa</td>\n",
       "      <td>1VEDKLCECD</td>\n",
       "      <td>28-01-18</td>\n",
       "      <td>10:20</td>\n",
       "      <td>Kisii</td>\n",
       "      <td>Nairobi</td>\n",
       "      <td>shuttle</td>\n",
       "      <td>11</td>\n",
       "    </tr>\n",
       "    <tr>\n",
       "      <th>29498</th>\n",
       "      <td>10873</td>\n",
       "      <td>7</td>\n",
       "      <td>Mpesa</td>\n",
       "      <td>BCKTXJYOQY</td>\n",
       "      <td>18-12-17</td>\n",
       "      <td>9:10</td>\n",
       "      <td>Kisii</td>\n",
       "      <td>Nairobi</td>\n",
       "      <td>shuttle</td>\n",
       "      <td>11</td>\n",
       "    </tr>\n",
       "    <tr>\n",
       "      <th>32319</th>\n",
       "      <td>11276</td>\n",
       "      <td>7</td>\n",
       "      <td>Mpesa</td>\n",
       "      <td>67IOWBMEYH</td>\n",
       "      <td>14-12-17</td>\n",
       "      <td>10:58</td>\n",
       "      <td>Kisii</td>\n",
       "      <td>Nairobi</td>\n",
       "      <td>shuttle</td>\n",
       "      <td>11</td>\n",
       "    </tr>\n",
       "    <tr>\n",
       "      <th>8460</th>\n",
       "      <td>7632</td>\n",
       "      <td>21A</td>\n",
       "      <td>Mpesa</td>\n",
       "      <td>ARTXOFSKLY</td>\n",
       "      <td>17-12-17</td>\n",
       "      <td>7:07</td>\n",
       "      <td>Kijauri</td>\n",
       "      <td>Nairobi</td>\n",
       "      <td>Bus</td>\n",
       "      <td>49</td>\n",
       "    </tr>\n",
       "    <tr>\n",
       "      <th>12985</th>\n",
       "      <td>8297</td>\n",
       "      <td>4</td>\n",
       "      <td>Mpesa</td>\n",
       "      <td>6RIMOEDBKZ</td>\n",
       "      <td>11-02-18</td>\n",
       "      <td>10:20</td>\n",
       "      <td>Kisii</td>\n",
       "      <td>Nairobi</td>\n",
       "      <td>shuttle</td>\n",
       "      <td>11</td>\n",
       "    </tr>\n",
       "    <tr>\n",
       "      <th>24483</th>\n",
       "      <td>10120</td>\n",
       "      <td>8A</td>\n",
       "      <td>Mpesa</td>\n",
       "      <td>SSYOIOEEGA</td>\n",
       "      <td>09-02-18</td>\n",
       "      <td>7:13</td>\n",
       "      <td>Kehancha</td>\n",
       "      <td>Nairobi</td>\n",
       "      <td>Bus</td>\n",
       "      <td>49</td>\n",
       "    </tr>\n",
       "    <tr>\n",
       "      <th>46713</th>\n",
       "      <td>13184</td>\n",
       "      <td>6B</td>\n",
       "      <td>Mpesa</td>\n",
       "      <td>EXJ6QT8OGM</td>\n",
       "      <td>08-04-18</td>\n",
       "      <td>7:03</td>\n",
       "      <td>Mbita</td>\n",
       "      <td>Nairobi</td>\n",
       "      <td>Bus</td>\n",
       "      <td>49</td>\n",
       "    </tr>\n",
       "    <tr>\n",
       "      <th>28036</th>\n",
       "      <td>10701</td>\n",
       "      <td>2</td>\n",
       "      <td>Mpesa</td>\n",
       "      <td>BMYGTISMCZ</td>\n",
       "      <td>20-12-17</td>\n",
       "      <td>8:50</td>\n",
       "      <td>Kisii</td>\n",
       "      <td>Nairobi</td>\n",
       "      <td>shuttle</td>\n",
       "      <td>11</td>\n",
       "    </tr>\n",
       "    <tr>\n",
       "      <th>8331</th>\n",
       "      <td>7617</td>\n",
       "      <td>1</td>\n",
       "      <td>Mpesa</td>\n",
       "      <td>JED54ZD28N</td>\n",
       "      <td>21-02-18</td>\n",
       "      <td>10:00</td>\n",
       "      <td>Kisii</td>\n",
       "      <td>Nairobi</td>\n",
       "      <td>shuttle</td>\n",
       "      <td>11</td>\n",
       "    </tr>\n",
       "    <tr>\n",
       "      <th>8507</th>\n",
       "      <td>7636</td>\n",
       "      <td>9</td>\n",
       "      <td>Mpesa</td>\n",
       "      <td>LAB6JAWY59</td>\n",
       "      <td>21-02-18</td>\n",
       "      <td>7:20</td>\n",
       "      <td>Kisii</td>\n",
       "      <td>Nairobi</td>\n",
       "      <td>shuttle</td>\n",
       "      <td>11</td>\n",
       "    </tr>\n",
       "    <tr>\n",
       "      <th>25869</th>\n",
       "      <td>10391</td>\n",
       "      <td>6</td>\n",
       "      <td>Mpesa</td>\n",
       "      <td>5PGYJVQKT7</td>\n",
       "      <td>29-12-17</td>\n",
       "      <td>10:56</td>\n",
       "      <td>Kisii</td>\n",
       "      <td>Nairobi</td>\n",
       "      <td>shuttle</td>\n",
       "      <td>11</td>\n",
       "    </tr>\n",
       "    <tr>\n",
       "      <th>15128</th>\n",
       "      <td>8575</td>\n",
       "      <td>3B</td>\n",
       "      <td>Mpesa</td>\n",
       "      <td>WECFRQMB4I</td>\n",
       "      <td>12-01-18</td>\n",
       "      <td>7:15</td>\n",
       "      <td>Migori</td>\n",
       "      <td>Nairobi</td>\n",
       "      <td>Bus</td>\n",
       "      <td>49</td>\n",
       "    </tr>\n",
       "    <tr>\n",
       "      <th>24196</th>\n",
       "      <td>10059</td>\n",
       "      <td>8</td>\n",
       "      <td>Mpesa</td>\n",
       "      <td>C8MABJP80T</td>\n",
       "      <td>08-02-18</td>\n",
       "      <td>9:00</td>\n",
       "      <td>Keroka</td>\n",
       "      <td>Nairobi</td>\n",
       "      <td>shuttle</td>\n",
       "      <td>11</td>\n",
       "    </tr>\n",
       "  </tbody>\n",
       "</table>\n",
       "</div>"
      ],
      "text/plain": [
       "       ride_id seat_number payment_method payment_receipt travel_date  \\\n",
       "1025      6396          1X          Mpesa      JCUPVLJRGN    01-12-17   \n",
       "17805     8983         11A          Mpesa      MNVMJJKIIK    22-01-18   \n",
       "37107    11785         17A          Mpesa      YYED6JUTQ1    07-03-18   \n",
       "18826     9160           1          Mpesa      HBPFSGZGXJ    29-01-18   \n",
       "6135      7260           4          Mpesa      GF8SZ3TK7G    02-03-18   \n",
       "26695    10534          10          Mpesa      VIZM0UFKM7    22-12-17   \n",
       "38256    11926          7B          Mpesa      90RITOQHUT    09-03-18   \n",
       "19772     9280           8          Mpesa      1VEDKLCECD    28-01-18   \n",
       "29498    10873           7          Mpesa      BCKTXJYOQY    18-12-17   \n",
       "32319    11276           7          Mpesa      67IOWBMEYH    14-12-17   \n",
       "8460      7632         21A          Mpesa      ARTXOFSKLY    17-12-17   \n",
       "12985     8297           4          Mpesa      6RIMOEDBKZ    11-02-18   \n",
       "24483    10120          8A          Mpesa      SSYOIOEEGA    09-02-18   \n",
       "46713    13184          6B          Mpesa      EXJ6QT8OGM    08-04-18   \n",
       "28036    10701           2          Mpesa      BMYGTISMCZ    20-12-17   \n",
       "8331      7617           1          Mpesa      JED54ZD28N    21-02-18   \n",
       "8507      7636           9          Mpesa      LAB6JAWY59    21-02-18   \n",
       "25869    10391           6          Mpesa      5PGYJVQKT7    29-12-17   \n",
       "15128     8575          3B          Mpesa      WECFRQMB4I    12-01-18   \n",
       "24196    10059           8          Mpesa      C8MABJP80T    08-02-18   \n",
       "\n",
       "      travel_time travel_from travel_to car_type  max_capacity  \n",
       "1025         5:40      Keroka   Nairobi  shuttle            11  \n",
       "17805        7:15      Migori   Nairobi      Bus            49  \n",
       "37107        7:04    Homa Bay   Nairobi      Bus            49  \n",
       "18826        8:50       Kisii   Nairobi  shuttle            11  \n",
       "6135         7:40       Kisii   Nairobi  shuttle            11  \n",
       "26695        9:20       Kisii   Nairobi  shuttle            11  \n",
       "38256        7:04       Rongo   Nairobi      Bus            49  \n",
       "19772       10:20       Kisii   Nairobi  shuttle            11  \n",
       "29498        9:10       Kisii   Nairobi  shuttle            11  \n",
       "32319       10:58       Kisii   Nairobi  shuttle            11  \n",
       "8460         7:07     Kijauri   Nairobi      Bus            49  \n",
       "12985       10:20       Kisii   Nairobi  shuttle            11  \n",
       "24483        7:13    Kehancha   Nairobi      Bus            49  \n",
       "46713        7:03       Mbita   Nairobi      Bus            49  \n",
       "28036        8:50       Kisii   Nairobi  shuttle            11  \n",
       "8331        10:00       Kisii   Nairobi  shuttle            11  \n",
       "8507         7:20       Kisii   Nairobi  shuttle            11  \n",
       "25869       10:56       Kisii   Nairobi  shuttle            11  \n",
       "15128        7:15      Migori   Nairobi      Bus            49  \n",
       "24196        9:00      Keroka   Nairobi  shuttle            11  "
      ]
     },
     "execution_count": 6,
     "metadata": {},
     "output_type": "execute_result"
    }
   ],
   "source": [
    "data.sample(20)"
   ]
  },
  {
   "cell_type": "code",
   "execution_count": 7,
   "id": "11746886",
   "metadata": {},
   "outputs": [
    {
     "data": {
      "text/plain": [
       "array(['Mpesa', 'Cash'], dtype=object)"
      ]
     },
     "execution_count": 7,
     "metadata": {},
     "output_type": "execute_result"
    }
   ],
   "source": [
    "data['payment_method'].unique()"
   ]
  },
  {
   "cell_type": "code",
   "execution_count": 8,
   "id": "9aa40b2e",
   "metadata": {},
   "outputs": [
    {
     "name": "stdout",
     "output_type": "stream",
     "text": [
      "<class 'pandas.core.frame.DataFrame'>\n",
      "RangeIndex: 51645 entries, 0 to 51644\n",
      "Data columns (total 10 columns):\n",
      " #   Column           Non-Null Count  Dtype \n",
      "---  ------           --------------  ----- \n",
      " 0   ride_id          51645 non-null  int64 \n",
      " 1   seat_number      51645 non-null  object\n",
      " 2   payment_method   51645 non-null  object\n",
      " 3   payment_receipt  51645 non-null  object\n",
      " 4   travel_date      51645 non-null  object\n",
      " 5   travel_time      51645 non-null  object\n",
      " 6   travel_from      51645 non-null  object\n",
      " 7   travel_to        51645 non-null  object\n",
      " 8   car_type         51645 non-null  object\n",
      " 9   max_capacity     51645 non-null  int64 \n",
      "dtypes: int64(2), object(8)\n",
      "memory usage: 3.9+ MB\n"
     ]
    }
   ],
   "source": [
    "data.info()"
   ]
  },
  {
   "cell_type": "code",
   "execution_count": 9,
   "id": "dbdd5c41",
   "metadata": {},
   "outputs": [
    {
     "data": {
      "text/plain": [
       "array(['Migori', 'Keroka', 'Homa Bay', 'Kisii', 'Keumbu', 'Rongo',\n",
       "       'Kijauri', 'Oyugis', 'Awendo', 'Sirare', 'Nyachenge', 'Kehancha',\n",
       "       'Kendu Bay', 'Sori', 'Rodi', 'Mbita', 'Ndhiwa'], dtype=object)"
      ]
     },
     "execution_count": 9,
     "metadata": {},
     "output_type": "execute_result"
    }
   ],
   "source": [
    "data['travel_from'].unique()"
   ]
  },
  {
   "cell_type": "code",
   "execution_count": 10,
   "id": "0617eeed",
   "metadata": {},
   "outputs": [
    {
     "data": {
      "text/plain": [
       "array(['Nairobi'], dtype=object)"
      ]
     },
     "execution_count": 10,
     "metadata": {},
     "output_type": "execute_result"
    }
   ],
   "source": [
    "data['travel_to']. unique()"
   ]
  },
  {
   "cell_type": "code",
   "execution_count": 11,
   "id": "389362e0",
   "metadata": {},
   "outputs": [
    {
     "data": {
      "text/plain": [
       "array(['Bus', 'shuttle'], dtype=object)"
      ]
     },
     "execution_count": 11,
     "metadata": {},
     "output_type": "execute_result"
    }
   ],
   "source": [
    "data['car_type']. unique()"
   ]
  },
  {
   "cell_type": "code",
   "execution_count": 12,
   "id": "ff63002e",
   "metadata": {},
   "outputs": [
    {
     "data": {
      "text/plain": [
       "array([49, 11], dtype=int64)"
      ]
     },
     "execution_count": 12,
     "metadata": {},
     "output_type": "execute_result"
    }
   ],
   "source": [
    "data['max_capacity'].unique()"
   ]
  },
  {
   "cell_type": "code",
   "execution_count": 13,
   "id": "2ba212ac",
   "metadata": {
    "scrolled": true
   },
   "outputs": [
    {
     "data": {
      "text/plain": [
       "array(['7:15', '7:12', '7:05', '7:10', '7:09', '5:10', '9:50', '7:06',\n",
       "       '6:00', '5:50', '10:58', '6:50', '5:30', '6:40', '9:10', '5:00',\n",
       "       '5:20', '10:52', '10:50', '10:51', '8:20', '19:03', '7:02', '6:30',\n",
       "       '7:20', '7:04', '19:05', '19:04', '6:59', '7:08', '5:40', '9:00',\n",
       "       '7:14', '7:07', '8:00', '7:30', '10:57', '8:30', '11:01', '7:11',\n",
       "       '7:03', '6:58', '11:05', '10:20', '10:53', '10:00', '8:50',\n",
       "       '10:54', '7:01', '7:00', '6:10', '6:20', '10:10', '11:02', '9:40',\n",
       "       '9:30', '7:50', '10:56', '10:55', '10:40', '10:30', '9:20', '8:40',\n",
       "       '8:10', '7:40', '7:13', '11:00', '11:04', '19:06', '10:59',\n",
       "       '11:07', '11:06', '11:03', '19:07', '11:08', '11:09', '23:09',\n",
       "       '23:10'], dtype=object)"
      ]
     },
     "execution_count": 13,
     "metadata": {},
     "output_type": "execute_result"
    }
   ],
   "source": [
    "data['travel_time'].unique()"
   ]
  },
  {
   "cell_type": "code",
   "execution_count": 14,
   "id": "6df9e0c3",
   "metadata": {},
   "outputs": [
    {
     "data": {
      "text/plain": [
       "array(['17-10-17', '19-11-17', '26-11-17', '27-11-17', '20-04-18',\n",
       "       '19-04-18', '18-04-18', '17-04-18', '16-04-18', '15-04-18',\n",
       "       '14-04-18', '13-04-18', '12-04-18', '11-04-18', '28-11-17',\n",
       "       '10-04-18', '09-04-18', '08-04-18', '07-04-18', '06-04-18',\n",
       "       '05-04-18', '04-04-18', '03-04-18', '02-04-18', '01-04-18',\n",
       "       '31-03-18', '30-03-18', '29-03-18', '28-03-18', '27-03-18',\n",
       "       '29-11-17', '26-03-18', '25-03-18', '24-03-18', '23-03-18',\n",
       "       '22-03-18', '21-03-18', '20-03-18', '19-03-18', '18-03-18',\n",
       "       '17-03-18', '16-03-18', '30-11-17', '01-12-17', '15-03-18',\n",
       "       '02-12-17', '14-03-18', '13-03-18', '03-12-17', '04-12-17',\n",
       "       '12-03-18', '05-12-17', '11-03-18', '06-12-17', '10-03-18',\n",
       "       '09-03-18', '07-12-17', '08-03-18', '08-12-17', '07-03-18',\n",
       "       '06-03-18', '09-12-17', '10-12-17', '05-03-18', '04-03-18',\n",
       "       '11-12-17', '12-12-17', '03-03-18', '02-03-18', '13-12-17',\n",
       "       '01-03-18', '14-12-17', '28-02-18', '27-02-18', '15-12-17',\n",
       "       '26-02-18', '25-02-18', '24-02-18', '23-02-18', '16-12-17',\n",
       "       '17-12-17', '22-02-18', '21-02-18', '18-12-17', '20-02-18',\n",
       "       '19-02-18', '19-12-17', '18-02-18', '20-12-17', '17-02-18',\n",
       "       '16-02-18', '21-12-17', '15-02-18', '22-12-17', '14-02-18',\n",
       "       '13-02-18', '23-12-17', '24-12-17', '26-12-17', '27-12-17',\n",
       "       '28-12-17', '29-12-17', '12-02-18', '30-12-17', '31-12-17',\n",
       "       '01-01-18', '02-01-18', '03-01-18', '11-02-18', '04-01-18',\n",
       "       '05-01-18', '06-01-18', '10-02-18', '09-02-18', '07-01-18',\n",
       "       '08-01-18', '09-01-18', '08-02-18', '10-01-18', '11-01-18',\n",
       "       '07-02-18', '06-02-18', '12-01-18', '13-01-18', '05-02-18',\n",
       "       '14-01-18', '15-01-18', '16-01-18', '04-02-18', '17-01-18',\n",
       "       '18-01-18', '03-02-18', '19-01-18', '02-02-18', '20-01-18',\n",
       "       '21-01-18', '22-01-18', '01-02-18', '31-01-18', '23-01-18',\n",
       "       '30-01-18', '24-01-18', '29-01-18', '25-01-18', '26-01-18',\n",
       "       '27-01-18', '28-01-18', '25-12-17', '14-11-17'], dtype=object)"
      ]
     },
     "execution_count": 14,
     "metadata": {},
     "output_type": "execute_result"
    }
   ],
   "source": [
    "data['travel_date'].unique()"
   ]
  },
  {
   "cell_type": "code",
   "execution_count": 15,
   "id": "e1e2bb66",
   "metadata": {},
   "outputs": [
    {
     "name": "stdout",
     "output_type": "stream",
     "text": [
      "<class 'pandas.core.frame.DataFrame'>\n",
      "RangeIndex: 51645 entries, 0 to 51644\n",
      "Data columns (total 10 columns):\n",
      " #   Column           Non-Null Count  Dtype \n",
      "---  ------           --------------  ----- \n",
      " 0   ride_id          51645 non-null  int64 \n",
      " 1   seat_number      51645 non-null  object\n",
      " 2   payment_method   51645 non-null  object\n",
      " 3   payment_receipt  51645 non-null  object\n",
      " 4   travel_date      51645 non-null  object\n",
      " 5   travel_time      51645 non-null  object\n",
      " 6   travel_from      51645 non-null  object\n",
      " 7   travel_to        51645 non-null  object\n",
      " 8   car_type         51645 non-null  object\n",
      " 9   max_capacity     51645 non-null  int64 \n",
      "dtypes: int64(2), object(8)\n",
      "memory usage: 3.9+ MB\n"
     ]
    }
   ],
   "source": [
    "data.info()"
   ]
  },
  {
   "cell_type": "code",
   "execution_count": null,
   "id": "3b8c2232",
   "metadata": {},
   "outputs": [],
   "source": []
  },
  {
   "cell_type": "code",
   "execution_count": 16,
   "id": "fa9d09ae",
   "metadata": {},
   "outputs": [],
   "source": [
    "# drop the columns that are insignificant \n",
    "data.drop(['ride_id', 'seat_number'], axis=1, inplace=True)"
   ]
  },
  {
   "cell_type": "code",
   "execution_count": 17,
   "id": "5a660621",
   "metadata": {},
   "outputs": [
    {
     "data": {
      "text/html": [
       "<div>\n",
       "<style scoped>\n",
       "    .dataframe tbody tr th:only-of-type {\n",
       "        vertical-align: middle;\n",
       "    }\n",
       "\n",
       "    .dataframe tbody tr th {\n",
       "        vertical-align: top;\n",
       "    }\n",
       "\n",
       "    .dataframe thead th {\n",
       "        text-align: right;\n",
       "    }\n",
       "</style>\n",
       "<table border=\"1\" class=\"dataframe\">\n",
       "  <thead>\n",
       "    <tr style=\"text-align: right;\">\n",
       "      <th></th>\n",
       "      <th>payment_method</th>\n",
       "      <th>payment_receipt</th>\n",
       "      <th>travel_date</th>\n",
       "      <th>travel_time</th>\n",
       "      <th>travel_from</th>\n",
       "      <th>travel_to</th>\n",
       "      <th>car_type</th>\n",
       "      <th>max_capacity</th>\n",
       "    </tr>\n",
       "  </thead>\n",
       "  <tbody>\n",
       "    <tr>\n",
       "      <th>0</th>\n",
       "      <td>Mpesa</td>\n",
       "      <td>UZUEHCBUSO</td>\n",
       "      <td>17-10-17</td>\n",
       "      <td>7:15</td>\n",
       "      <td>Migori</td>\n",
       "      <td>Nairobi</td>\n",
       "      <td>Bus</td>\n",
       "      <td>49</td>\n",
       "    </tr>\n",
       "    <tr>\n",
       "      <th>1</th>\n",
       "      <td>Mpesa</td>\n",
       "      <td>TIHLBUSGTE</td>\n",
       "      <td>19-11-17</td>\n",
       "      <td>7:12</td>\n",
       "      <td>Migori</td>\n",
       "      <td>Nairobi</td>\n",
       "      <td>Bus</td>\n",
       "      <td>49</td>\n",
       "    </tr>\n",
       "    <tr>\n",
       "      <th>2</th>\n",
       "      <td>Mpesa</td>\n",
       "      <td>EQX8Q5G19O</td>\n",
       "      <td>26-11-17</td>\n",
       "      <td>7:05</td>\n",
       "      <td>Keroka</td>\n",
       "      <td>Nairobi</td>\n",
       "      <td>Bus</td>\n",
       "      <td>49</td>\n",
       "    </tr>\n",
       "    <tr>\n",
       "      <th>3</th>\n",
       "      <td>Mpesa</td>\n",
       "      <td>SGP18CL0ME</td>\n",
       "      <td>27-11-17</td>\n",
       "      <td>7:10</td>\n",
       "      <td>Homa Bay</td>\n",
       "      <td>Nairobi</td>\n",
       "      <td>Bus</td>\n",
       "      <td>49</td>\n",
       "    </tr>\n",
       "    <tr>\n",
       "      <th>4</th>\n",
       "      <td>Mpesa</td>\n",
       "      <td>BM97HFRGL9</td>\n",
       "      <td>27-11-17</td>\n",
       "      <td>7:12</td>\n",
       "      <td>Migori</td>\n",
       "      <td>Nairobi</td>\n",
       "      <td>Bus</td>\n",
       "      <td>49</td>\n",
       "    </tr>\n",
       "    <tr>\n",
       "      <th>...</th>\n",
       "      <td>...</td>\n",
       "      <td>...</td>\n",
       "      <td>...</td>\n",
       "      <td>...</td>\n",
       "      <td>...</td>\n",
       "      <td>...</td>\n",
       "      <td>...</td>\n",
       "      <td>...</td>\n",
       "    </tr>\n",
       "    <tr>\n",
       "      <th>51640</th>\n",
       "      <td>Mpesa</td>\n",
       "      <td>8V2XDDZR6V</td>\n",
       "      <td>20-04-18</td>\n",
       "      <td>8:00</td>\n",
       "      <td>Awendo</td>\n",
       "      <td>Nairobi</td>\n",
       "      <td>Bus</td>\n",
       "      <td>49</td>\n",
       "    </tr>\n",
       "    <tr>\n",
       "      <th>51641</th>\n",
       "      <td>Mpesa</td>\n",
       "      <td>4PEBSVJSNK</td>\n",
       "      <td>20-04-18</td>\n",
       "      <td>8:00</td>\n",
       "      <td>Migori</td>\n",
       "      <td>Nairobi</td>\n",
       "      <td>Bus</td>\n",
       "      <td>49</td>\n",
       "    </tr>\n",
       "    <tr>\n",
       "      <th>51642</th>\n",
       "      <td>Mpesa</td>\n",
       "      <td>LVN64LZDNN</td>\n",
       "      <td>20-04-18</td>\n",
       "      <td>8:00</td>\n",
       "      <td>Migori</td>\n",
       "      <td>Nairobi</td>\n",
       "      <td>Bus</td>\n",
       "      <td>49</td>\n",
       "    </tr>\n",
       "    <tr>\n",
       "      <th>51643</th>\n",
       "      <td>Mpesa</td>\n",
       "      <td>REYBSKTYWN</td>\n",
       "      <td>20-04-18</td>\n",
       "      <td>7:08</td>\n",
       "      <td>Awendo</td>\n",
       "      <td>Nairobi</td>\n",
       "      <td>Bus</td>\n",
       "      <td>49</td>\n",
       "    </tr>\n",
       "    <tr>\n",
       "      <th>51644</th>\n",
       "      <td>Mpesa</td>\n",
       "      <td>AQN7FBUSGP</td>\n",
       "      <td>14-11-17</td>\n",
       "      <td>5:10</td>\n",
       "      <td>Kisii</td>\n",
       "      <td>Nairobi</td>\n",
       "      <td>Bus</td>\n",
       "      <td>49</td>\n",
       "    </tr>\n",
       "  </tbody>\n",
       "</table>\n",
       "<p>51645 rows × 8 columns</p>\n",
       "</div>"
      ],
      "text/plain": [
       "      payment_method payment_receipt travel_date travel_time travel_from  \\\n",
       "0              Mpesa      UZUEHCBUSO    17-10-17        7:15      Migori   \n",
       "1              Mpesa      TIHLBUSGTE    19-11-17        7:12      Migori   \n",
       "2              Mpesa      EQX8Q5G19O    26-11-17        7:05      Keroka   \n",
       "3              Mpesa      SGP18CL0ME    27-11-17        7:10    Homa Bay   \n",
       "4              Mpesa      BM97HFRGL9    27-11-17        7:12      Migori   \n",
       "...              ...             ...         ...         ...         ...   \n",
       "51640          Mpesa      8V2XDDZR6V    20-04-18        8:00      Awendo   \n",
       "51641          Mpesa      4PEBSVJSNK    20-04-18        8:00      Migori   \n",
       "51642          Mpesa      LVN64LZDNN    20-04-18        8:00      Migori   \n",
       "51643          Mpesa      REYBSKTYWN    20-04-18        7:08      Awendo   \n",
       "51644          Mpesa      AQN7FBUSGP    14-11-17        5:10       Kisii   \n",
       "\n",
       "      travel_to car_type  max_capacity  \n",
       "0       Nairobi      Bus            49  \n",
       "1       Nairobi      Bus            49  \n",
       "2       Nairobi      Bus            49  \n",
       "3       Nairobi      Bus            49  \n",
       "4       Nairobi      Bus            49  \n",
       "...         ...      ...           ...  \n",
       "51640   Nairobi      Bus            49  \n",
       "51641   Nairobi      Bus            49  \n",
       "51642   Nairobi      Bus            49  \n",
       "51643   Nairobi      Bus            49  \n",
       "51644   Nairobi      Bus            49  \n",
       "\n",
       "[51645 rows x 8 columns]"
      ]
     },
     "execution_count": 17,
     "metadata": {},
     "output_type": "execute_result"
    }
   ],
   "source": [
    "data"
   ]
  },
  {
   "cell_type": "code",
   "execution_count": 18,
   "id": "41fd79e6",
   "metadata": {},
   "outputs": [],
   "source": [
    "data['travel_date']= pd.to_datetime(data['travel_date'])"
   ]
  },
  {
   "cell_type": "code",
   "execution_count": 19,
   "id": "9f3d17a5",
   "metadata": {},
   "outputs": [
    {
     "name": "stdout",
     "output_type": "stream",
     "text": [
      "<class 'pandas.core.frame.DataFrame'>\n",
      "RangeIndex: 51645 entries, 0 to 51644\n",
      "Data columns (total 8 columns):\n",
      " #   Column           Non-Null Count  Dtype         \n",
      "---  ------           --------------  -----         \n",
      " 0   payment_method   51645 non-null  object        \n",
      " 1   payment_receipt  51645 non-null  object        \n",
      " 2   travel_date      51645 non-null  datetime64[ns]\n",
      " 3   travel_time      51645 non-null  object        \n",
      " 4   travel_from      51645 non-null  object        \n",
      " 5   travel_to        51645 non-null  object        \n",
      " 6   car_type         51645 non-null  object        \n",
      " 7   max_capacity     51645 non-null  int64         \n",
      "dtypes: datetime64[ns](1), int64(1), object(6)\n",
      "memory usage: 3.2+ MB\n"
     ]
    }
   ],
   "source": [
    "data.info()"
   ]
  },
  {
   "cell_type": "markdown",
   "id": "88a45e35",
   "metadata": {},
   "source": [
    "Next, since the data type of the date column is an object, we will change the date column from object type  to date type "
   ]
  },
  {
   "cell_type": "code",
   "execution_count": 20,
   "id": "b1b670f9",
   "metadata": {},
   "outputs": [],
   "source": [
    "data['travel_date'] = pd.to_datetime(data['travel_date'].astype(str))"
   ]
  },
  {
   "cell_type": "code",
   "execution_count": 21,
   "id": "cf686031",
   "metadata": {},
   "outputs": [
    {
     "name": "stdout",
     "output_type": "stream",
     "text": [
      "<class 'pandas.core.frame.DataFrame'>\n",
      "RangeIndex: 51645 entries, 0 to 51644\n",
      "Data columns (total 8 columns):\n",
      " #   Column           Non-Null Count  Dtype         \n",
      "---  ------           --------------  -----         \n",
      " 0   payment_method   51645 non-null  object        \n",
      " 1   payment_receipt  51645 non-null  object        \n",
      " 2   travel_date      51645 non-null  datetime64[ns]\n",
      " 3   travel_time      51645 non-null  object        \n",
      " 4   travel_from      51645 non-null  object        \n",
      " 5   travel_to        51645 non-null  object        \n",
      " 6   car_type         51645 non-null  object        \n",
      " 7   max_capacity     51645 non-null  int64         \n",
      "dtypes: datetime64[ns](1), int64(1), object(6)\n",
      "memory usage: 3.2+ MB\n"
     ]
    }
   ],
   "source": [
    "data.info()"
   ]
  },
  {
   "cell_type": "markdown",
   "id": "bf760957",
   "metadata": {},
   "source": [
    "From the travel_date we get the day of the week represented as an integer with 0 as Monday, 2 as tuesday, 3 as wednesday, 4 as friday, 5 as saturday and 6 as Sunday"
   ]
  },
  {
   "cell_type": "code",
   "execution_count": 22,
   "id": "eb52665b",
   "metadata": {},
   "outputs": [],
   "source": [
    "day = data['travel_date'].dt.dayofweek"
   ]
  },
  {
   "cell_type": "code",
   "execution_count": 23,
   "id": "7e5a7ea7",
   "metadata": {},
   "outputs": [
    {
     "data": {
      "text/plain": [
       "0        1\n",
       "1        6\n",
       "2        6\n",
       "3        0\n",
       "4        0\n",
       "        ..\n",
       "51640    4\n",
       "51641    4\n",
       "51642    4\n",
       "51643    4\n",
       "51644    1\n",
       "Name: travel_date, Length: 51645, dtype: int64"
      ]
     },
     "execution_count": 23,
     "metadata": {},
     "output_type": "execute_result"
    }
   ],
   "source": [
    "day"
   ]
  },
  {
   "cell_type": "code",
   "execution_count": 24,
   "id": "968cd89b",
   "metadata": {},
   "outputs": [
    {
     "data": {
      "text/plain": [
       "array([1, 6, 0, 4, 3, 2, 5], dtype=int64)"
      ]
     },
     "execution_count": 24,
     "metadata": {},
     "output_type": "execute_result"
    }
   ],
   "source": [
    "day.unique()"
   ]
  },
  {
   "cell_type": "code",
   "execution_count": 25,
   "id": "fe571c07",
   "metadata": {},
   "outputs": [
    {
     "name": "stdout",
     "output_type": "stream",
     "text": [
      "<class 'pandas.core.frame.DataFrame'>\n",
      "RangeIndex: 51645 entries, 0 to 51644\n",
      "Data columns (total 8 columns):\n",
      " #   Column           Non-Null Count  Dtype         \n",
      "---  ------           --------------  -----         \n",
      " 0   payment_method   51645 non-null  object        \n",
      " 1   payment_receipt  51645 non-null  object        \n",
      " 2   travel_date      51645 non-null  datetime64[ns]\n",
      " 3   travel_time      51645 non-null  object        \n",
      " 4   travel_from      51645 non-null  object        \n",
      " 5   travel_to        51645 non-null  object        \n",
      " 6   car_type         51645 non-null  object        \n",
      " 7   max_capacity     51645 non-null  int64         \n",
      "dtypes: datetime64[ns](1), int64(1), object(6)\n",
      "memory usage: 3.2+ MB\n"
     ]
    }
   ],
   "source": [
    "data.info()"
   ]
  },
  {
   "cell_type": "code",
   "execution_count": 26,
   "id": "182d580c",
   "metadata": {},
   "outputs": [],
   "source": [
    "data['day_of_week'] = day"
   ]
  },
  {
   "cell_type": "code",
   "execution_count": 27,
   "id": "06d03e49",
   "metadata": {},
   "outputs": [
    {
     "name": "stdout",
     "output_type": "stream",
     "text": [
      "<class 'pandas.core.frame.DataFrame'>\n",
      "RangeIndex: 51645 entries, 0 to 51644\n",
      "Data columns (total 9 columns):\n",
      " #   Column           Non-Null Count  Dtype         \n",
      "---  ------           --------------  -----         \n",
      " 0   payment_method   51645 non-null  object        \n",
      " 1   payment_receipt  51645 non-null  object        \n",
      " 2   travel_date      51645 non-null  datetime64[ns]\n",
      " 3   travel_time      51645 non-null  object        \n",
      " 4   travel_from      51645 non-null  object        \n",
      " 5   travel_to        51645 non-null  object        \n",
      " 6   car_type         51645 non-null  object        \n",
      " 7   max_capacity     51645 non-null  int64         \n",
      " 8   day_of_week      51645 non-null  int64         \n",
      "dtypes: datetime64[ns](1), int64(2), object(6)\n",
      "memory usage: 3.5+ MB\n"
     ]
    }
   ],
   "source": [
    "data.info()"
   ]
  },
  {
   "cell_type": "code",
   "execution_count": 28,
   "id": "95bb49dd",
   "metadata": {},
   "outputs": [
    {
     "data": {
      "text/plain": [
       "Kisii        22607\n",
       "Migori        7027\n",
       "Homa Bay      6304\n",
       "Sirare        4449\n",
       "Rongo         3928\n",
       "Kehancha      1909\n",
       "Awendo        1788\n",
       "Kijauri       1031\n",
       "Keroka         988\n",
       "Nyachenge      512\n",
       "Rodi           405\n",
       "Mbita          378\n",
       "Ndhiwa         236\n",
       "Sori            55\n",
       "Keumbu          22\n",
       "Oyugis           5\n",
       "Kendu Bay        1\n",
       "Name: travel_from, dtype: int64"
      ]
     },
     "execution_count": 28,
     "metadata": {},
     "output_type": "execute_result"
    }
   ],
   "source": [
    "data['travel_from'].value_counts()"
   ]
  },
  {
   "cell_type": "code",
   "execution_count": 29,
   "id": "1775c10c",
   "metadata": {},
   "outputs": [
    {
     "data": {
      "text/plain": [
       "51645"
      ]
     },
     "execution_count": 29,
     "metadata": {},
     "output_type": "execute_result"
    }
   ],
   "source": [
    "data['travel_from'].value_counts().sum()"
   ]
  },
  {
   "cell_type": "code",
   "execution_count": 30,
   "id": "d0206e4f",
   "metadata": {},
   "outputs": [],
   "source": [
    "Sunday_routes = data[data['day_of_week'] == 6]"
   ]
  },
  {
   "cell_type": "code",
   "execution_count": 31,
   "id": "fa1521a0",
   "metadata": {},
   "outputs": [
    {
     "data": {
      "text/plain": [
       "Kisii        2756\n",
       "Migori        973\n",
       "Homa Bay      910\n",
       "Sirare        629\n",
       "Rongo         538\n",
       "Kehancha      301\n",
       "Awendo        296\n",
       "Kijauri       115\n",
       "Nyachenge      85\n",
       "Mbita          83\n",
       "Rodi           63\n",
       "Ndhiwa         45\n",
       "Keroka         41\n",
       "Sori            9\n",
       "Keumbu          3\n",
       "Name: travel_from, dtype: int64"
      ]
     },
     "execution_count": 31,
     "metadata": {},
     "output_type": "execute_result"
    }
   ],
   "source": [
    "Sunday_routes['travel_from'].value_counts()"
   ]
  },
  {
   "cell_type": "markdown",
   "id": "8e9fc416",
   "metadata": {},
   "source": [
    "# Question 1"
   ]
  },
  {
   "cell_type": "code",
   "execution_count": 32,
   "id": "73953bec",
   "metadata": {},
   "outputs": [],
   "source": [
    "Total = Sunday_routes[Sunday_routes['travel_from'].isin(['Kisii','Migori','Homa Bay','Sirare','Rongo','Kehancha','Awendo'])].value_counts().sum()"
   ]
  },
  {
   "cell_type": "code",
   "execution_count": 33,
   "id": "12407cb2",
   "metadata": {},
   "outputs": [
    {
     "data": {
      "text/plain": [
       "6403"
      ]
     },
     "execution_count": 33,
     "metadata": {},
     "output_type": "execute_result"
    }
   ],
   "source": [
    "# sum of the trips from the top 7 routes\n",
    "Total"
   ]
  },
  {
   "cell_type": "code",
   "execution_count": 34,
   "id": "43043dd3",
   "metadata": {},
   "outputs": [],
   "source": [
    "Average_travel_sunday = Total / 7"
   ]
  },
  {
   "cell_type": "markdown",
   "id": "b82bfcc3",
   "metadata": {},
   "source": [
    "From the data obtained for routes that were travelled on sunday, the 7 most travelled the everage obtained is below "
   ]
  },
  {
   "cell_type": "code",
   "execution_count": 35,
   "id": "c0965aa7",
   "metadata": {},
   "outputs": [
    {
     "data": {
      "text/plain": [
       "914.7142857142857"
      ]
     },
     "execution_count": 35,
     "metadata": {},
     "output_type": "execute_result"
    }
   ],
   "source": [
    "# on average the number of trips that were made for the 7 routes is \n",
    "Average_travel_sunday"
   ]
  },
  {
   "cell_type": "markdown",
   "id": "bf780991",
   "metadata": {},
   "source": [
    "From the dataset, it is unsure to know the actual number of days since assuming that maybe some days there may have been some sundays where there may not have been any travelling.From the site we know that the data was collected from  17 October 2017 and 20 April 2018 hence this can be able to help identify the actual number of sundays that were there during that period"
   ]
  },
  {
   "cell_type": "code",
   "execution_count": 36,
   "id": "11a7d908",
   "metadata": {},
   "outputs": [],
   "source": [
    "from datetime import date\n",
    "\n",
    "d1 = date(2017, 10, 17)\n",
    "d2 = date(2018, 4, 20)\n",
    "\n",
    "num_of_days = d2 - d1\n",
    "\n",
    "Total_days= num_of_days.days"
   ]
  },
  {
   "cell_type": "code",
   "execution_count": 37,
   "id": "1d011500",
   "metadata": {},
   "outputs": [
    {
     "data": {
      "text/plain": [
       "185"
      ]
     },
     "execution_count": 37,
     "metadata": {},
     "output_type": "execute_result"
    }
   ],
   "source": [
    "Total_days"
   ]
  },
  {
   "cell_type": "markdown",
   "id": "f062c146",
   "metadata": {},
   "source": [
    "There are 185 number of days from the period, I wil then divide this by 7 to find the number of weeks that existed during that period. This will help to know how many weeks they were and hence know the number of Sundays that were there over that period"
   ]
  },
  {
   "cell_type": "code",
   "execution_count": 38,
   "id": "2330b65d",
   "metadata": {},
   "outputs": [
    {
     "data": {
      "text/plain": [
       "26.428571428571427"
      ]
     },
     "execution_count": 38,
     "metadata": {},
     "output_type": "execute_result"
    }
   ],
   "source": [
    "num_of_sundays = Total_days/7\n",
    "\n",
    "num_of_sundays"
   ]
  },
  {
   "cell_type": "markdown",
   "id": "8708cc5f",
   "metadata": {},
   "source": [
    "There were roughly 26.428571428571427 number of Sundays within that period"
   ]
  },
  {
   "cell_type": "code",
   "execution_count": 39,
   "id": "e5f2818b",
   "metadata": {},
   "outputs": [],
   "source": [
    "Sun_routes_df=pd.DataFrame(Sunday_routes['travel_from'].value_counts())"
   ]
  },
  {
   "cell_type": "code",
   "execution_count": 40,
   "id": "4f3071e2",
   "metadata": {},
   "outputs": [
    {
     "data": {
      "text/html": [
       "<div>\n",
       "<style scoped>\n",
       "    .dataframe tbody tr th:only-of-type {\n",
       "        vertical-align: middle;\n",
       "    }\n",
       "\n",
       "    .dataframe tbody tr th {\n",
       "        vertical-align: top;\n",
       "    }\n",
       "\n",
       "    .dataframe thead th {\n",
       "        text-align: right;\n",
       "    }\n",
       "</style>\n",
       "<table border=\"1\" class=\"dataframe\">\n",
       "  <thead>\n",
       "    <tr style=\"text-align: right;\">\n",
       "      <th></th>\n",
       "      <th>travel_from</th>\n",
       "    </tr>\n",
       "  </thead>\n",
       "  <tbody>\n",
       "    <tr>\n",
       "      <th>Kisii</th>\n",
       "      <td>2756</td>\n",
       "    </tr>\n",
       "    <tr>\n",
       "      <th>Migori</th>\n",
       "      <td>973</td>\n",
       "    </tr>\n",
       "    <tr>\n",
       "      <th>Homa Bay</th>\n",
       "      <td>910</td>\n",
       "    </tr>\n",
       "    <tr>\n",
       "      <th>Sirare</th>\n",
       "      <td>629</td>\n",
       "    </tr>\n",
       "    <tr>\n",
       "      <th>Rongo</th>\n",
       "      <td>538</td>\n",
       "    </tr>\n",
       "    <tr>\n",
       "      <th>Kehancha</th>\n",
       "      <td>301</td>\n",
       "    </tr>\n",
       "    <tr>\n",
       "      <th>Awendo</th>\n",
       "      <td>296</td>\n",
       "    </tr>\n",
       "    <tr>\n",
       "      <th>Kijauri</th>\n",
       "      <td>115</td>\n",
       "    </tr>\n",
       "    <tr>\n",
       "      <th>Nyachenge</th>\n",
       "      <td>85</td>\n",
       "    </tr>\n",
       "    <tr>\n",
       "      <th>Mbita</th>\n",
       "      <td>83</td>\n",
       "    </tr>\n",
       "    <tr>\n",
       "      <th>Rodi</th>\n",
       "      <td>63</td>\n",
       "    </tr>\n",
       "    <tr>\n",
       "      <th>Ndhiwa</th>\n",
       "      <td>45</td>\n",
       "    </tr>\n",
       "    <tr>\n",
       "      <th>Keroka</th>\n",
       "      <td>41</td>\n",
       "    </tr>\n",
       "    <tr>\n",
       "      <th>Sori</th>\n",
       "      <td>9</td>\n",
       "    </tr>\n",
       "    <tr>\n",
       "      <th>Keumbu</th>\n",
       "      <td>3</td>\n",
       "    </tr>\n",
       "  </tbody>\n",
       "</table>\n",
       "</div>"
      ],
      "text/plain": [
       "           travel_from\n",
       "Kisii             2756\n",
       "Migori             973\n",
       "Homa Bay           910\n",
       "Sirare             629\n",
       "Rongo              538\n",
       "Kehancha           301\n",
       "Awendo             296\n",
       "Kijauri            115\n",
       "Nyachenge           85\n",
       "Mbita               83\n",
       "Rodi                63\n",
       "Ndhiwa              45\n",
       "Keroka              41\n",
       "Sori                 9\n",
       "Keumbu               3"
      ]
     },
     "execution_count": 40,
     "metadata": {},
     "output_type": "execute_result"
    }
   ],
   "source": [
    "Sun_routes_df"
   ]
  },
  {
   "cell_type": "code",
   "execution_count": 41,
   "id": "a5391bb9",
   "metadata": {},
   "outputs": [
    {
     "data": {
      "text/html": [
       "<div>\n",
       "<style scoped>\n",
       "    .dataframe tbody tr th:only-of-type {\n",
       "        vertical-align: middle;\n",
       "    }\n",
       "\n",
       "    .dataframe tbody tr th {\n",
       "        vertical-align: top;\n",
       "    }\n",
       "\n",
       "    .dataframe thead th {\n",
       "        text-align: right;\n",
       "    }\n",
       "</style>\n",
       "<table border=\"1\" class=\"dataframe\">\n",
       "  <thead>\n",
       "    <tr style=\"text-align: right;\">\n",
       "      <th></th>\n",
       "      <th>travel_from</th>\n",
       "    </tr>\n",
       "  </thead>\n",
       "  <tbody>\n",
       "    <tr>\n",
       "      <th>Kisii</th>\n",
       "      <td>104.281081</td>\n",
       "    </tr>\n",
       "    <tr>\n",
       "      <th>Migori</th>\n",
       "      <td>36.816216</td>\n",
       "    </tr>\n",
       "    <tr>\n",
       "      <th>Homa Bay</th>\n",
       "      <td>34.432432</td>\n",
       "    </tr>\n",
       "    <tr>\n",
       "      <th>Sirare</th>\n",
       "      <td>23.800000</td>\n",
       "    </tr>\n",
       "    <tr>\n",
       "      <th>Rongo</th>\n",
       "      <td>20.356757</td>\n",
       "    </tr>\n",
       "    <tr>\n",
       "      <th>Kehancha</th>\n",
       "      <td>11.389189</td>\n",
       "    </tr>\n",
       "    <tr>\n",
       "      <th>Awendo</th>\n",
       "      <td>11.200000</td>\n",
       "    </tr>\n",
       "  </tbody>\n",
       "</table>\n",
       "</div>"
      ],
      "text/plain": [
       "          travel_from\n",
       "Kisii      104.281081\n",
       "Migori      36.816216\n",
       "Homa Bay    34.432432\n",
       "Sirare      23.800000\n",
       "Rongo       20.356757\n",
       "Kehancha    11.389189\n",
       "Awendo      11.200000"
      ]
     },
     "execution_count": 41,
     "metadata": {},
     "output_type": "execute_result"
    }
   ],
   "source": [
    "# The average of each route ranked in descending order is as follows\n",
    "Sun_routes_df[:7]/num_of_sundays"
   ]
  },
  {
   "cell_type": "markdown",
   "id": "5653b93e",
   "metadata": {},
   "source": [
    "# Question 2"
   ]
  },
  {
   "cell_type": "markdown",
   "id": "281c45cd",
   "metadata": {},
   "source": [
    "The probability of a passenger taking a shuttle is 1 / (number od vehicles to depature at the time(2)) and the probability of a passenger leaving before 7:30 is 1 / (the number of depatures that are there before 7:30 at Kijauri). When the two probabilities are obtained, you will then get the product of the two probabilities to get the probability of a passenger taking a shuttle from kijauri and departing before 7:30"
   ]
  },
  {
   "cell_type": "code",
   "execution_count": 42,
   "id": "17b5ceac",
   "metadata": {},
   "outputs": [
    {
     "data": {
      "text/html": [
       "<div>\n",
       "<style scoped>\n",
       "    .dataframe tbody tr th:only-of-type {\n",
       "        vertical-align: middle;\n",
       "    }\n",
       "\n",
       "    .dataframe tbody tr th {\n",
       "        vertical-align: top;\n",
       "    }\n",
       "\n",
       "    .dataframe thead th {\n",
       "        text-align: right;\n",
       "    }\n",
       "</style>\n",
       "<table border=\"1\" class=\"dataframe\">\n",
       "  <thead>\n",
       "    <tr style=\"text-align: right;\">\n",
       "      <th></th>\n",
       "      <th>payment_method</th>\n",
       "      <th>payment_receipt</th>\n",
       "      <th>travel_date</th>\n",
       "      <th>travel_time</th>\n",
       "      <th>travel_from</th>\n",
       "      <th>travel_to</th>\n",
       "      <th>car_type</th>\n",
       "      <th>max_capacity</th>\n",
       "      <th>day_of_week</th>\n",
       "    </tr>\n",
       "  </thead>\n",
       "  <tbody>\n",
       "    <tr>\n",
       "      <th>0</th>\n",
       "      <td>Mpesa</td>\n",
       "      <td>UZUEHCBUSO</td>\n",
       "      <td>2017-10-17</td>\n",
       "      <td>7:15</td>\n",
       "      <td>Migori</td>\n",
       "      <td>Nairobi</td>\n",
       "      <td>Bus</td>\n",
       "      <td>49</td>\n",
       "      <td>1</td>\n",
       "    </tr>\n",
       "    <tr>\n",
       "      <th>1</th>\n",
       "      <td>Mpesa</td>\n",
       "      <td>TIHLBUSGTE</td>\n",
       "      <td>2017-11-19</td>\n",
       "      <td>7:12</td>\n",
       "      <td>Migori</td>\n",
       "      <td>Nairobi</td>\n",
       "      <td>Bus</td>\n",
       "      <td>49</td>\n",
       "      <td>6</td>\n",
       "    </tr>\n",
       "    <tr>\n",
       "      <th>2</th>\n",
       "      <td>Mpesa</td>\n",
       "      <td>EQX8Q5G19O</td>\n",
       "      <td>2017-11-26</td>\n",
       "      <td>7:05</td>\n",
       "      <td>Keroka</td>\n",
       "      <td>Nairobi</td>\n",
       "      <td>Bus</td>\n",
       "      <td>49</td>\n",
       "      <td>6</td>\n",
       "    </tr>\n",
       "    <tr>\n",
       "      <th>3</th>\n",
       "      <td>Mpesa</td>\n",
       "      <td>SGP18CL0ME</td>\n",
       "      <td>2017-11-27</td>\n",
       "      <td>7:10</td>\n",
       "      <td>Homa Bay</td>\n",
       "      <td>Nairobi</td>\n",
       "      <td>Bus</td>\n",
       "      <td>49</td>\n",
       "      <td>0</td>\n",
       "    </tr>\n",
       "    <tr>\n",
       "      <th>4</th>\n",
       "      <td>Mpesa</td>\n",
       "      <td>BM97HFRGL9</td>\n",
       "      <td>2017-11-27</td>\n",
       "      <td>7:12</td>\n",
       "      <td>Migori</td>\n",
       "      <td>Nairobi</td>\n",
       "      <td>Bus</td>\n",
       "      <td>49</td>\n",
       "      <td>0</td>\n",
       "    </tr>\n",
       "    <tr>\n",
       "      <th>...</th>\n",
       "      <td>...</td>\n",
       "      <td>...</td>\n",
       "      <td>...</td>\n",
       "      <td>...</td>\n",
       "      <td>...</td>\n",
       "      <td>...</td>\n",
       "      <td>...</td>\n",
       "      <td>...</td>\n",
       "      <td>...</td>\n",
       "    </tr>\n",
       "    <tr>\n",
       "      <th>51640</th>\n",
       "      <td>Mpesa</td>\n",
       "      <td>8V2XDDZR6V</td>\n",
       "      <td>2018-04-20</td>\n",
       "      <td>8:00</td>\n",
       "      <td>Awendo</td>\n",
       "      <td>Nairobi</td>\n",
       "      <td>Bus</td>\n",
       "      <td>49</td>\n",
       "      <td>4</td>\n",
       "    </tr>\n",
       "    <tr>\n",
       "      <th>51641</th>\n",
       "      <td>Mpesa</td>\n",
       "      <td>4PEBSVJSNK</td>\n",
       "      <td>2018-04-20</td>\n",
       "      <td>8:00</td>\n",
       "      <td>Migori</td>\n",
       "      <td>Nairobi</td>\n",
       "      <td>Bus</td>\n",
       "      <td>49</td>\n",
       "      <td>4</td>\n",
       "    </tr>\n",
       "    <tr>\n",
       "      <th>51642</th>\n",
       "      <td>Mpesa</td>\n",
       "      <td>LVN64LZDNN</td>\n",
       "      <td>2018-04-20</td>\n",
       "      <td>8:00</td>\n",
       "      <td>Migori</td>\n",
       "      <td>Nairobi</td>\n",
       "      <td>Bus</td>\n",
       "      <td>49</td>\n",
       "      <td>4</td>\n",
       "    </tr>\n",
       "    <tr>\n",
       "      <th>51643</th>\n",
       "      <td>Mpesa</td>\n",
       "      <td>REYBSKTYWN</td>\n",
       "      <td>2018-04-20</td>\n",
       "      <td>7:08</td>\n",
       "      <td>Awendo</td>\n",
       "      <td>Nairobi</td>\n",
       "      <td>Bus</td>\n",
       "      <td>49</td>\n",
       "      <td>4</td>\n",
       "    </tr>\n",
       "    <tr>\n",
       "      <th>51644</th>\n",
       "      <td>Mpesa</td>\n",
       "      <td>AQN7FBUSGP</td>\n",
       "      <td>2017-11-14</td>\n",
       "      <td>5:10</td>\n",
       "      <td>Kisii</td>\n",
       "      <td>Nairobi</td>\n",
       "      <td>Bus</td>\n",
       "      <td>49</td>\n",
       "      <td>1</td>\n",
       "    </tr>\n",
       "  </tbody>\n",
       "</table>\n",
       "<p>51645 rows × 9 columns</p>\n",
       "</div>"
      ],
      "text/plain": [
       "      payment_method payment_receipt travel_date travel_time travel_from  \\\n",
       "0              Mpesa      UZUEHCBUSO  2017-10-17        7:15      Migori   \n",
       "1              Mpesa      TIHLBUSGTE  2017-11-19        7:12      Migori   \n",
       "2              Mpesa      EQX8Q5G19O  2017-11-26        7:05      Keroka   \n",
       "3              Mpesa      SGP18CL0ME  2017-11-27        7:10    Homa Bay   \n",
       "4              Mpesa      BM97HFRGL9  2017-11-27        7:12      Migori   \n",
       "...              ...             ...         ...         ...         ...   \n",
       "51640          Mpesa      8V2XDDZR6V  2018-04-20        8:00      Awendo   \n",
       "51641          Mpesa      4PEBSVJSNK  2018-04-20        8:00      Migori   \n",
       "51642          Mpesa      LVN64LZDNN  2018-04-20        8:00      Migori   \n",
       "51643          Mpesa      REYBSKTYWN  2018-04-20        7:08      Awendo   \n",
       "51644          Mpesa      AQN7FBUSGP  2017-11-14        5:10       Kisii   \n",
       "\n",
       "      travel_to car_type  max_capacity  day_of_week  \n",
       "0       Nairobi      Bus            49            1  \n",
       "1       Nairobi      Bus            49            6  \n",
       "2       Nairobi      Bus            49            6  \n",
       "3       Nairobi      Bus            49            0  \n",
       "4       Nairobi      Bus            49            0  \n",
       "...         ...      ...           ...          ...  \n",
       "51640   Nairobi      Bus            49            4  \n",
       "51641   Nairobi      Bus            49            4  \n",
       "51642   Nairobi      Bus            49            4  \n",
       "51643   Nairobi      Bus            49            4  \n",
       "51644   Nairobi      Bus            49            1  \n",
       "\n",
       "[51645 rows x 9 columns]"
      ]
     },
     "execution_count": 42,
     "metadata": {},
     "output_type": "execute_result"
    }
   ],
   "source": [
    "data"
   ]
  },
  {
   "cell_type": "code",
   "execution_count": 44,
   "id": "830415ff",
   "metadata": {},
   "outputs": [
    {
     "name": "stdout",
     "output_type": "stream",
     "text": [
      "<class 'pandas.core.frame.DataFrame'>\n",
      "RangeIndex: 51645 entries, 0 to 51644\n",
      "Data columns (total 9 columns):\n",
      " #   Column           Non-Null Count  Dtype         \n",
      "---  ------           --------------  -----         \n",
      " 0   payment_method   51645 non-null  object        \n",
      " 1   payment_receipt  51645 non-null  object        \n",
      " 2   travel_date      51645 non-null  datetime64[ns]\n",
      " 3   travel_time      51645 non-null  object        \n",
      " 4   travel_from      51645 non-null  object        \n",
      " 5   travel_to        51645 non-null  object        \n",
      " 6   car_type         51645 non-null  object        \n",
      " 7   max_capacity     51645 non-null  int64         \n",
      " 8   day_of_week      51645 non-null  int64         \n",
      "dtypes: datetime64[ns](1), int64(2), object(6)\n",
      "memory usage: 3.5+ MB\n"
     ]
    }
   ],
   "source": [
    "data.info()"
   ]
  },
  {
   "cell_type": "code",
   "execution_count": 57,
   "id": "d96d070d",
   "metadata": {},
   "outputs": [],
   "source": [
    "data['travel_time']= pd.to_datetime(data['travel_time'])"
   ]
  },
  {
   "cell_type": "code",
   "execution_count": 58,
   "id": "33f3d404",
   "metadata": {},
   "outputs": [
    {
     "name": "stdout",
     "output_type": "stream",
     "text": [
      "<class 'pandas.core.frame.DataFrame'>\n",
      "RangeIndex: 51645 entries, 0 to 51644\n",
      "Data columns (total 9 columns):\n",
      " #   Column           Non-Null Count  Dtype         \n",
      "---  ------           --------------  -----         \n",
      " 0   payment_method   51645 non-null  object        \n",
      " 1   payment_receipt  51645 non-null  object        \n",
      " 2   travel_date      51645 non-null  datetime64[ns]\n",
      " 3   travel_time      51645 non-null  datetime64[ns]\n",
      " 4   travel_from      51645 non-null  object        \n",
      " 5   travel_to        51645 non-null  object        \n",
      " 6   car_type         51645 non-null  object        \n",
      " 7   max_capacity     51645 non-null  int64         \n",
      " 8   day_of_week      51645 non-null  int64         \n",
      "dtypes: datetime64[ns](2), int64(2), object(5)\n",
      "memory usage: 3.5+ MB\n"
     ]
    }
   ],
   "source": [
    "data.info()"
   ]
  },
  {
   "cell_type": "code",
   "execution_count": 70,
   "id": "17c0a55c",
   "metadata": {},
   "outputs": [],
   "source": [
    "# getting the specific time to look for in the data\n",
    "date = pd.to_datetime('2022-05-10 07:30:00')"
   ]
  },
  {
   "cell_type": "code",
   "execution_count": 76,
   "id": "65e3d074",
   "metadata": {},
   "outputs": [],
   "source": [
    "before_7_30=data[data['travel_time']< date]"
   ]
  },
  {
   "cell_type": "code",
   "execution_count": 77,
   "id": "b4026c1c",
   "metadata": {},
   "outputs": [
    {
     "data": {
      "text/html": [
       "<div>\n",
       "<style scoped>\n",
       "    .dataframe tbody tr th:only-of-type {\n",
       "        vertical-align: middle;\n",
       "    }\n",
       "\n",
       "    .dataframe tbody tr th {\n",
       "        vertical-align: top;\n",
       "    }\n",
       "\n",
       "    .dataframe thead th {\n",
       "        text-align: right;\n",
       "    }\n",
       "</style>\n",
       "<table border=\"1\" class=\"dataframe\">\n",
       "  <thead>\n",
       "    <tr style=\"text-align: right;\">\n",
       "      <th></th>\n",
       "      <th>payment_method</th>\n",
       "      <th>payment_receipt</th>\n",
       "      <th>travel_date</th>\n",
       "      <th>travel_time</th>\n",
       "      <th>travel_from</th>\n",
       "      <th>travel_to</th>\n",
       "      <th>car_type</th>\n",
       "      <th>max_capacity</th>\n",
       "      <th>day_of_week</th>\n",
       "    </tr>\n",
       "  </thead>\n",
       "  <tbody>\n",
       "    <tr>\n",
       "      <th>0</th>\n",
       "      <td>Mpesa</td>\n",
       "      <td>UZUEHCBUSO</td>\n",
       "      <td>2017-10-17</td>\n",
       "      <td>2022-05-10 07:15:00</td>\n",
       "      <td>Migori</td>\n",
       "      <td>Nairobi</td>\n",
       "      <td>Bus</td>\n",
       "      <td>49</td>\n",
       "      <td>1</td>\n",
       "    </tr>\n",
       "    <tr>\n",
       "      <th>1</th>\n",
       "      <td>Mpesa</td>\n",
       "      <td>TIHLBUSGTE</td>\n",
       "      <td>2017-11-19</td>\n",
       "      <td>2022-05-10 07:12:00</td>\n",
       "      <td>Migori</td>\n",
       "      <td>Nairobi</td>\n",
       "      <td>Bus</td>\n",
       "      <td>49</td>\n",
       "      <td>6</td>\n",
       "    </tr>\n",
       "    <tr>\n",
       "      <th>2</th>\n",
       "      <td>Mpesa</td>\n",
       "      <td>EQX8Q5G19O</td>\n",
       "      <td>2017-11-26</td>\n",
       "      <td>2022-05-10 07:05:00</td>\n",
       "      <td>Keroka</td>\n",
       "      <td>Nairobi</td>\n",
       "      <td>Bus</td>\n",
       "      <td>49</td>\n",
       "      <td>6</td>\n",
       "    </tr>\n",
       "    <tr>\n",
       "      <th>3</th>\n",
       "      <td>Mpesa</td>\n",
       "      <td>SGP18CL0ME</td>\n",
       "      <td>2017-11-27</td>\n",
       "      <td>2022-05-10 07:10:00</td>\n",
       "      <td>Homa Bay</td>\n",
       "      <td>Nairobi</td>\n",
       "      <td>Bus</td>\n",
       "      <td>49</td>\n",
       "      <td>0</td>\n",
       "    </tr>\n",
       "    <tr>\n",
       "      <th>4</th>\n",
       "      <td>Mpesa</td>\n",
       "      <td>BM97HFRGL9</td>\n",
       "      <td>2017-11-27</td>\n",
       "      <td>2022-05-10 07:12:00</td>\n",
       "      <td>Migori</td>\n",
       "      <td>Nairobi</td>\n",
       "      <td>Bus</td>\n",
       "      <td>49</td>\n",
       "      <td>0</td>\n",
       "    </tr>\n",
       "    <tr>\n",
       "      <th>...</th>\n",
       "      <td>...</td>\n",
       "      <td>...</td>\n",
       "      <td>...</td>\n",
       "      <td>...</td>\n",
       "      <td>...</td>\n",
       "      <td>...</td>\n",
       "      <td>...</td>\n",
       "      <td>...</td>\n",
       "      <td>...</td>\n",
       "    </tr>\n",
       "    <tr>\n",
       "      <th>51633</th>\n",
       "      <td>Mpesa</td>\n",
       "      <td>TWTES0YBWD</td>\n",
       "      <td>2018-04-20</td>\n",
       "      <td>2022-05-10 07:05:00</td>\n",
       "      <td>Ndhiwa</td>\n",
       "      <td>Nairobi</td>\n",
       "      <td>Bus</td>\n",
       "      <td>49</td>\n",
       "      <td>4</td>\n",
       "    </tr>\n",
       "    <tr>\n",
       "      <th>51636</th>\n",
       "      <td>Mpesa</td>\n",
       "      <td>QDV5QMHCG0</td>\n",
       "      <td>2018-04-20</td>\n",
       "      <td>2022-05-10 07:05:00</td>\n",
       "      <td>Ndhiwa</td>\n",
       "      <td>Nairobi</td>\n",
       "      <td>Bus</td>\n",
       "      <td>49</td>\n",
       "      <td>4</td>\n",
       "    </tr>\n",
       "    <tr>\n",
       "      <th>51639</th>\n",
       "      <td>Mpesa</td>\n",
       "      <td>B3R9XWCV9O</td>\n",
       "      <td>2018-04-20</td>\n",
       "      <td>2022-05-10 07:09:00</td>\n",
       "      <td>Rongo</td>\n",
       "      <td>Nairobi</td>\n",
       "      <td>Bus</td>\n",
       "      <td>49</td>\n",
       "      <td>4</td>\n",
       "    </tr>\n",
       "    <tr>\n",
       "      <th>51643</th>\n",
       "      <td>Mpesa</td>\n",
       "      <td>REYBSKTYWN</td>\n",
       "      <td>2018-04-20</td>\n",
       "      <td>2022-05-10 07:08:00</td>\n",
       "      <td>Awendo</td>\n",
       "      <td>Nairobi</td>\n",
       "      <td>Bus</td>\n",
       "      <td>49</td>\n",
       "      <td>4</td>\n",
       "    </tr>\n",
       "    <tr>\n",
       "      <th>51644</th>\n",
       "      <td>Mpesa</td>\n",
       "      <td>AQN7FBUSGP</td>\n",
       "      <td>2017-11-14</td>\n",
       "      <td>2022-05-10 05:10:00</td>\n",
       "      <td>Kisii</td>\n",
       "      <td>Nairobi</td>\n",
       "      <td>Bus</td>\n",
       "      <td>49</td>\n",
       "      <td>1</td>\n",
       "    </tr>\n",
       "  </tbody>\n",
       "</table>\n",
       "<p>31377 rows × 9 columns</p>\n",
       "</div>"
      ],
      "text/plain": [
       "      payment_method payment_receipt travel_date         travel_time  \\\n",
       "0              Mpesa      UZUEHCBUSO  2017-10-17 2022-05-10 07:15:00   \n",
       "1              Mpesa      TIHLBUSGTE  2017-11-19 2022-05-10 07:12:00   \n",
       "2              Mpesa      EQX8Q5G19O  2017-11-26 2022-05-10 07:05:00   \n",
       "3              Mpesa      SGP18CL0ME  2017-11-27 2022-05-10 07:10:00   \n",
       "4              Mpesa      BM97HFRGL9  2017-11-27 2022-05-10 07:12:00   \n",
       "...              ...             ...         ...                 ...   \n",
       "51633          Mpesa      TWTES0YBWD  2018-04-20 2022-05-10 07:05:00   \n",
       "51636          Mpesa      QDV5QMHCG0  2018-04-20 2022-05-10 07:05:00   \n",
       "51639          Mpesa      B3R9XWCV9O  2018-04-20 2022-05-10 07:09:00   \n",
       "51643          Mpesa      REYBSKTYWN  2018-04-20 2022-05-10 07:08:00   \n",
       "51644          Mpesa      AQN7FBUSGP  2017-11-14 2022-05-10 05:10:00   \n",
       "\n",
       "      travel_from travel_to car_type  max_capacity  day_of_week  \n",
       "0          Migori   Nairobi      Bus            49            1  \n",
       "1          Migori   Nairobi      Bus            49            6  \n",
       "2          Keroka   Nairobi      Bus            49            6  \n",
       "3        Homa Bay   Nairobi      Bus            49            0  \n",
       "4          Migori   Nairobi      Bus            49            0  \n",
       "...           ...       ...      ...           ...          ...  \n",
       "51633      Ndhiwa   Nairobi      Bus            49            4  \n",
       "51636      Ndhiwa   Nairobi      Bus            49            4  \n",
       "51639       Rongo   Nairobi      Bus            49            4  \n",
       "51643      Awendo   Nairobi      Bus            49            4  \n",
       "51644       Kisii   Nairobi      Bus            49            1  \n",
       "\n",
       "[31377 rows x 9 columns]"
      ]
     },
     "execution_count": 77,
     "metadata": {},
     "output_type": "execute_result"
    }
   ],
   "source": [
    "# records for leaving before 7:30\n",
    "before_7_30 "
   ]
  },
  {
   "cell_type": "code",
   "execution_count": 87,
   "id": "d0c2b7c8",
   "metadata": {},
   "outputs": [],
   "source": [
    "# leaving Kijauri before 7:30 + \n",
    "Kijauri_b4 = data[(data['travel_from']=='Kijauri')&(data['travel_time']<date)]"
   ]
  },
  {
   "cell_type": "code",
   "execution_count": 95,
   "id": "2539130d",
   "metadata": {},
   "outputs": [
    {
     "name": "stderr",
     "output_type": "stream",
     "text": [
      "C:\\Users\\Admin\\AppData\\Local\\Temp/ipykernel_10272/2952269067.py:1: SettingWithCopyWarning: \n",
      "A value is trying to be set on a copy of a slice from a DataFrame.\n",
      "Try using .loc[row_indexer,col_indexer] = value instead\n",
      "\n",
      "See the caveats in the documentation: https://pandas.pydata.org/pandas-docs/stable/user_guide/indexing.html#returning-a-view-versus-a-copy\n",
      "  Kijauri_b4['travel_time'] = Kijauri_b4['travel_time'].astype(str)\n"
     ]
    }
   ],
   "source": [
    "Kijauri_b4['travel_time'] = Kijauri_b4['travel_time'].astype(str)"
   ]
  },
  {
   "cell_type": "code",
   "execution_count": 96,
   "id": "35894f8d",
   "metadata": {},
   "outputs": [
    {
     "name": "stdout",
     "output_type": "stream",
     "text": [
      "<class 'pandas.core.frame.DataFrame'>\n",
      "Int64Index: 819 entries, 1625 to 51469\n",
      "Data columns (total 9 columns):\n",
      " #   Column           Non-Null Count  Dtype         \n",
      "---  ------           --------------  -----         \n",
      " 0   payment_method   819 non-null    object        \n",
      " 1   payment_receipt  819 non-null    object        \n",
      " 2   travel_date      819 non-null    datetime64[ns]\n",
      " 3   travel_time      819 non-null    object        \n",
      " 4   travel_from      819 non-null    object        \n",
      " 5   travel_to        819 non-null    object        \n",
      " 6   car_type         819 non-null    object        \n",
      " 7   max_capacity     819 non-null    int64         \n",
      " 8   day_of_week      819 non-null    int64         \n",
      "dtypes: datetime64[ns](1), int64(2), object(6)\n",
      "memory usage: 64.0+ KB\n"
     ]
    }
   ],
   "source": [
    "Kijauri_b4.info()"
   ]
  },
  {
   "cell_type": "code",
   "execution_count": 107,
   "id": "7fea8300",
   "metadata": {},
   "outputs": [
    {
     "data": {
      "text/plain": [
       "819"
      ]
     },
     "execution_count": 107,
     "metadata": {},
     "output_type": "execute_result"
    }
   ],
   "source": [
    "Kijauri_b4['travel_time'].value_counts().sum()"
   ]
  },
  {
   "cell_type": "code",
   "execution_count": 82,
   "id": "98c43f20",
   "metadata": {},
   "outputs": [
    {
     "data": {
      "text/plain": [
       "0.5"
      ]
     },
     "execution_count": 82,
     "metadata": {},
     "output_type": "execute_result"
    }
   ],
   "source": [
    "p1 = 1/2\n",
    "p1"
   ]
  },
  {
   "cell_type": "code",
   "execution_count": 84,
   "id": "318810cb",
   "metadata": {},
   "outputs": [
    {
     "data": {
      "text/plain": [
       "0.001221001221001221"
      ]
     },
     "execution_count": 84,
     "metadata": {},
     "output_type": "execute_result"
    }
   ],
   "source": [
    "p2 = 1/819\n",
    "p2"
   ]
  },
  {
   "cell_type": "code",
   "execution_count": 85,
   "id": "961c20ef",
   "metadata": {},
   "outputs": [
    {
     "data": {
      "text/plain": [
       "0.06105006105006105"
      ]
     },
     "execution_count": 85,
     "metadata": {},
     "output_type": "execute_result"
    }
   ],
   "source": [
    "Overall =p1*p2* 100\n",
    "Overall"
   ]
  },
  {
   "cell_type": "markdown",
   "id": "590a468c",
   "metadata": {},
   "source": [
    "the Probability that a passenger travelling from Kijauri will take a Shuttle if they depart before 07:30 is 0.06105006105006105%"
   ]
  },
  {
   "cell_type": "markdown",
   "id": "52a2dc3c",
   "metadata": {},
   "source": [
    "# Quesion 3"
   ]
  },
  {
   "cell_type": "code",
   "execution_count": null,
   "id": "7aad8715",
   "metadata": {},
   "outputs": [],
   "source": []
  }
 ],
 "metadata": {
  "kernelspec": {
   "display_name": "Python 3 (ipykernel)",
   "language": "python",
   "name": "python3"
  },
  "language_info": {
   "codemirror_mode": {
    "name": "ipython",
    "version": 3
   },
   "file_extension": ".py",
   "mimetype": "text/x-python",
   "name": "python",
   "nbconvert_exporter": "python",
   "pygments_lexer": "ipython3",
   "version": "3.9.7"
  }
 },
 "nbformat": 4,
 "nbformat_minor": 5
}
